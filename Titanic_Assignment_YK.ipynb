{
 "cells": [
  {
   "cell_type": "code",
   "execution_count": 7,
   "metadata": {},
   "outputs": [
    {
     "data": {
      "text/html": [
       "<div>\n",
       "<style scoped>\n",
       "    .dataframe tbody tr th:only-of-type {\n",
       "        vertical-align: middle;\n",
       "    }\n",
       "\n",
       "    .dataframe tbody tr th {\n",
       "        vertical-align: top;\n",
       "    }\n",
       "\n",
       "    .dataframe thead th {\n",
       "        text-align: right;\n",
       "    }\n",
       "</style>\n",
       "<table border=\"1\" class=\"dataframe\">\n",
       "  <thead>\n",
       "    <tr style=\"text-align: right;\">\n",
       "      <th></th>\n",
       "      <th>pclass</th>\n",
       "      <th>survived</th>\n",
       "      <th>name</th>\n",
       "      <th>sex</th>\n",
       "      <th>age</th>\n",
       "      <th>sibsp</th>\n",
       "      <th>parch</th>\n",
       "      <th>ticket</th>\n",
       "      <th>fare</th>\n",
       "      <th>cabin</th>\n",
       "      <th>embarked</th>\n",
       "      <th>boat</th>\n",
       "      <th>body</th>\n",
       "      <th>home.dest</th>\n",
       "    </tr>\n",
       "  </thead>\n",
       "  <tbody>\n",
       "    <tr>\n",
       "      <th>0</th>\n",
       "      <td>1</td>\n",
       "      <td>1</td>\n",
       "      <td>Allen, Miss. Elisabeth Walton</td>\n",
       "      <td>female</td>\n",
       "      <td>29.0000</td>\n",
       "      <td>0</td>\n",
       "      <td>0</td>\n",
       "      <td>24160</td>\n",
       "      <td>211.3375</td>\n",
       "      <td>B5</td>\n",
       "      <td>S</td>\n",
       "      <td>2</td>\n",
       "      <td>NaN</td>\n",
       "      <td>St Louis, MO</td>\n",
       "    </tr>\n",
       "    <tr>\n",
       "      <th>1</th>\n",
       "      <td>1</td>\n",
       "      <td>1</td>\n",
       "      <td>Allison, Master. Hudson Trevor</td>\n",
       "      <td>male</td>\n",
       "      <td>0.9167</td>\n",
       "      <td>1</td>\n",
       "      <td>2</td>\n",
       "      <td>113781</td>\n",
       "      <td>151.5500</td>\n",
       "      <td>C22 C26</td>\n",
       "      <td>S</td>\n",
       "      <td>11</td>\n",
       "      <td>NaN</td>\n",
       "      <td>Montreal, PQ / Chesterville, ON</td>\n",
       "    </tr>\n",
       "    <tr>\n",
       "      <th>2</th>\n",
       "      <td>1</td>\n",
       "      <td>0</td>\n",
       "      <td>Allison, Miss. Helen Loraine</td>\n",
       "      <td>female</td>\n",
       "      <td>2.0000</td>\n",
       "      <td>1</td>\n",
       "      <td>2</td>\n",
       "      <td>113781</td>\n",
       "      <td>151.5500</td>\n",
       "      <td>C22 C26</td>\n",
       "      <td>S</td>\n",
       "      <td>NaN</td>\n",
       "      <td>NaN</td>\n",
       "      <td>Montreal, PQ / Chesterville, ON</td>\n",
       "    </tr>\n",
       "    <tr>\n",
       "      <th>3</th>\n",
       "      <td>1</td>\n",
       "      <td>0</td>\n",
       "      <td>Allison, Mr. Hudson Joshua Creighton</td>\n",
       "      <td>male</td>\n",
       "      <td>30.0000</td>\n",
       "      <td>1</td>\n",
       "      <td>2</td>\n",
       "      <td>113781</td>\n",
       "      <td>151.5500</td>\n",
       "      <td>C22 C26</td>\n",
       "      <td>S</td>\n",
       "      <td>NaN</td>\n",
       "      <td>135.0</td>\n",
       "      <td>Montreal, PQ / Chesterville, ON</td>\n",
       "    </tr>\n",
       "    <tr>\n",
       "      <th>4</th>\n",
       "      <td>1</td>\n",
       "      <td>0</td>\n",
       "      <td>Allison, Mrs. Hudson J C (Bessie Waldo Daniels)</td>\n",
       "      <td>female</td>\n",
       "      <td>25.0000</td>\n",
       "      <td>1</td>\n",
       "      <td>2</td>\n",
       "      <td>113781</td>\n",
       "      <td>151.5500</td>\n",
       "      <td>C22 C26</td>\n",
       "      <td>S</td>\n",
       "      <td>NaN</td>\n",
       "      <td>NaN</td>\n",
       "      <td>Montreal, PQ / Chesterville, ON</td>\n",
       "    </tr>\n",
       "  </tbody>\n",
       "</table>\n",
       "</div>"
      ],
      "text/plain": [
       "   pclass  survived                                             name     sex  \\\n",
       "0       1         1                    Allen, Miss. Elisabeth Walton  female   \n",
       "1       1         1                   Allison, Master. Hudson Trevor    male   \n",
       "2       1         0                     Allison, Miss. Helen Loraine  female   \n",
       "3       1         0             Allison, Mr. Hudson Joshua Creighton    male   \n",
       "4       1         0  Allison, Mrs. Hudson J C (Bessie Waldo Daniels)  female   \n",
       "\n",
       "       age  sibsp  parch  ticket      fare    cabin embarked boat   body  \\\n",
       "0  29.0000      0      0   24160  211.3375       B5        S    2    NaN   \n",
       "1   0.9167      1      2  113781  151.5500  C22 C26        S   11    NaN   \n",
       "2   2.0000      1      2  113781  151.5500  C22 C26        S  NaN    NaN   \n",
       "3  30.0000      1      2  113781  151.5500  C22 C26        S  NaN  135.0   \n",
       "4  25.0000      1      2  113781  151.5500  C22 C26        S  NaN    NaN   \n",
       "\n",
       "                         home.dest  \n",
       "0                     St Louis, MO  \n",
       "1  Montreal, PQ / Chesterville, ON  \n",
       "2  Montreal, PQ / Chesterville, ON  \n",
       "3  Montreal, PQ / Chesterville, ON  \n",
       "4  Montreal, PQ / Chesterville, ON  "
      ]
     },
     "execution_count": 7,
     "metadata": {},
     "output_type": "execute_result"
    }
   ],
   "source": [
    "import pandas as pd\n",
    "\n",
    "Location ='titanic3.xls'\n",
    "df = pd.read_excel(Location)\n",
    "df.head()"
   ]
  },
  {
   "cell_type": "code",
   "execution_count": 26,
   "metadata": {},
   "outputs": [],
   "source": [
    "total_passengers = len(df)\n",
    "\n",
    "total_women =len(df[df['sex'] == \"female\"])\n",
    "total_men = len(df[df['sex'] == \"male\"])\n",
    "total_survived = len(df[df['survived'] == 1])\n",
    "total_unsurvived = len(df[df['survived'] == 0])\n",
    "total_over18 = len(df[df['age'] > 18])\n",
    "total_under18 = len(df[df['age'] <= 18])\n",
    "total_firstclass =len(df[df[\"pclass\"] == 1])\n",
    "total_secondclass =len(df[df[\"pclass\"] == 2])\n",
    "total_thirdclass =len(df[df[\"pclass\"] == 3])\n",
    "\n"
   ]
  },
  {
   "cell_type": "code",
   "execution_count": 27,
   "metadata": {},
   "outputs": [
    {
     "name": "stdout",
     "output_type": "stream",
     "text": [
      "0.322\n",
      "0.19\n",
      "0.238\n",
      "0.3819709702062643\n"
     ]
    }
   ],
   "source": [
    "########## Probability that a boy in 2nd class could survive. ###############\n",
    "\n",
    "men_survived = len(df[(df['sex'] == 'male') & (df['survived'] == 1)])\n",
    "kid_survived = len(df[(df['age'] <=18) & (df['survived'] == 1)])\n",
    "middle_survived = len(df[(df['pclass'] == 2) & (df['survived'] == 1)])\n",
    "\n",
    "## We need 4 values of probability for Bayes' formula.\n",
    "## Probability of men's surviving\n",
    "p_men_survived = men_survived / total_survived\n",
    "print(p_men_survived)\n",
    "\n",
    "## Probability of children's surviving\n",
    "p_kid_survived = kid_survived / total_survived\n",
    "print(p_kid_survived)\n",
    "\n",
    "## Probability of people's in the 2nd class surviving \n",
    "p_middle_survived = middle_survived / total_survived\n",
    "print(p_middle_survived)\n",
    "\n",
    "## Probability \n",
    "p_survived = total_survived / total_passengers\n",
    "print(p_survived)"
   ]
  },
  {
   "cell_type": "code",
   "execution_count": 28,
   "metadata": {},
   "outputs": [
    {
     "name": "stdout",
     "output_type": "stream",
     "text": [
      "0.678\n",
      "0.664\n",
      "0.362\n",
      "0.3819709702062643\n"
     ]
    }
   ],
   "source": [
    "########## Probability that a women in 3rd class could survive. ###############\n",
    "\n",
    "women_survived = len(df[(df['sex'] == 'female') & (df['survived'] == 1)])\n",
    "adult_survived = len(df[(df['age'] > 18) & (df['survived'] == 1)])\n",
    "third_survived = len(df[(df['pclass'] == 3) & (df['survived'] == 1)])\n",
    "\n",
    "## We need 4 values of probability for Bayes' formula.\n",
    "## Probability of women's surviving\n",
    "p_women_survived = women_survived / total_survived\n",
    "print(p_women_survived)\n",
    "\n",
    "## Probability of adults' surviving\n",
    "p_adult_survived = adult_survived / total_survived\n",
    "print(p_adult_survived)\n",
    "\n",
    "## Probability of people's in the 3rd class surviving \n",
    "p_third_survived = third_survived / total_survived\n",
    "print(p_third_survived)\n",
    "\n",
    "## Probability \n",
    "p_survived = total_survived / total_passengers\n",
    "print(p_survived)"
   ]
  },
  {
   "cell_type": "code",
   "execution_count": 16,
   "metadata": {},
   "outputs": [
    {
     "name": "stdout",
     "output_type": "stream",
     "text": [
      "0.322\n",
      "0.664\n",
      "0.4\n",
      "0.3819709702062643\n"
     ]
    }
   ],
   "source": [
    "########## Probability that a man in 1st class could survive. ###############\n",
    "\n",
    "men_survived = len(df[(df['sex'] == 'male') & (df['survived'] == 1)])\n",
    "adult_survived = len(df[(df['age'] > 18) & (df['survived'] == 1)])\n",
    "first_survived = len(df[(df['pclass'] == 1) & (df['survived'] == 1)])\n",
    "\n",
    "## We need 4 values of probability for Bayes' formula.\n",
    "## Probability of men's surviving\n",
    "p_men_survived = men_survived / total_survived\n",
    "print(p_men_survived)\n",
    "\n",
    "## Probability of adults' surviving\n",
    "p_adult_survived = adult_survived / total_survived\n",
    "print(p_adult_survived)\n",
    "\n",
    "## Probability of people's in the first class surviving \n",
    "p_first_survived = first_survived / total_survived\n",
    "print(p_first_survived)\n",
    "\n",
    "## Probability \n",
    "p_survived = total_survived / total_passengers\n",
    "print(p_survived)"
   ]
  },
  {
   "cell_type": "code",
   "execution_count": 29,
   "metadata": {},
   "outputs": [
    {
     "name": "stdout",
     "output_type": "stream",
     "text": [
      "0.005561818181818182\n",
      "0.062249619556913674\n",
      "0.03266737967914439\n"
     ]
    }
   ],
   "source": [
    "## Define the function we need to practice 'def' function.\n",
    "\n",
    "def prob_survived(sex,pclass,age,survived) :\n",
    "    return sex*pclass*age*survived\n",
    "\n",
    "\n",
    "##  P(survived∣ male, kid, 2nd class)=P(male∣ survived) * P(kid∣ survived) * P(2nd∣ survived) *P(survived)\n",
    "print(prob_survived(p_men_survived, p_kid_survived, p_middle_survived, p_survived))\n",
    "\n",
    "##  P(survived∣ female, adult, 3rd class)=P(female∣ survived) * P(adult∣ survived) * P(3rd∣ survived) *P(survived)\n",
    "print(prob_survived(p_women_survived, p_adult_survived, p_third_survived, p_survived))\n",
    "\n",
    "\n",
    "##  P(survived∣ male, adult, 1st class)=P(male∣ survived) * P(adult∣ survived) * P(1st∣ survived) *P(survived)\n",
    "print(prob_survived(p_men_survived, p_adult_survived, p_first_survived, p_survived))"
   ]
  },
  {
   "cell_type": "markdown",
   "metadata": {},
   "source": [
    "### The conclusion is that the probability of women's in 3rd class surviving has the highest value, 0.062. Therefore, women in 3rd class are more likely to survive."
   ]
  },
  {
   "cell_type": "code",
   "execution_count": null,
   "metadata": {},
   "outputs": [],
   "source": [
    "\n"
   ]
  }
 ],
 "metadata": {
  "kernelspec": {
   "display_name": "Python 3",
   "language": "python",
   "name": "python3"
  },
  "language_info": {
   "codemirror_mode": {
    "name": "ipython",
    "version": 3
   },
   "file_extension": ".py",
   "mimetype": "text/x-python",
   "name": "python",
   "nbconvert_exporter": "python",
   "pygments_lexer": "ipython3",
   "version": "3.6.5"
  }
 },
 "nbformat": 4,
 "nbformat_minor": 2
}
